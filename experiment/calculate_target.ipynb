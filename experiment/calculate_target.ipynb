{
 "cells": [
  {
   "cell_type": "markdown",
   "metadata": {},
   "source": [
    "## Calculating target variable over time"
   ]
  },
  {
   "cell_type": "code",
   "execution_count": 2,
   "metadata": {},
   "outputs": [],
   "source": [
    "import numpy as np\n",
    "import pandas as pd\n",
    "\n",
    "from datetime import datetime, timedelta, date\n",
    "from getFinancialData import getFinancialData\n",
    "import matplotlib.pyplot as plt"
   ]
  },
  {
   "cell_type": "code",
   "execution_count": 3,
   "metadata": {},
   "outputs": [
    {
     "data": {
      "text/html": [
       "<div>\n",
       "<style scoped>\n",
       "    .dataframe tbody tr th:only-of-type {\n",
       "        vertical-align: middle;\n",
       "    }\n",
       "\n",
       "    .dataframe tbody tr th {\n",
       "        vertical-align: top;\n",
       "    }\n",
       "\n",
       "    .dataframe thead th {\n",
       "        text-align: right;\n",
       "    }\n",
       "</style>\n",
       "<table border=\"1\" class=\"dataframe\">\n",
       "  <thead>\n",
       "    <tr style=\"text-align: right;\">\n",
       "      <th></th>\n",
       "      <th>Open</th>\n",
       "      <th>High</th>\n",
       "      <th>Low</th>\n",
       "      <th>Close</th>\n",
       "      <th>Volume</th>\n",
       "      <th>Dividends</th>\n",
       "      <th>Stock Splits</th>\n",
       "    </tr>\n",
       "    <tr>\n",
       "      <th>Date</th>\n",
       "      <th></th>\n",
       "      <th></th>\n",
       "      <th></th>\n",
       "      <th></th>\n",
       "      <th></th>\n",
       "      <th></th>\n",
       "      <th></th>\n",
       "    </tr>\n",
       "  </thead>\n",
       "  <tbody>\n",
       "    <tr>\n",
       "      <th>2000-01-03 00:00:00-05:00</th>\n",
       "      <td>97.60</td>\n",
       "      <td>97.60</td>\n",
       "      <td>94.72</td>\n",
       "      <td>95.75</td>\n",
       "      <td>8164300</td>\n",
       "      <td>0.0</td>\n",
       "      <td>0</td>\n",
       "    </tr>\n",
       "    <tr>\n",
       "      <th>2000-01-04 00:00:00-05:00</th>\n",
       "      <td>94.49</td>\n",
       "      <td>94.84</td>\n",
       "      <td>91.93</td>\n",
       "      <td>92.00</td>\n",
       "      <td>8089800</td>\n",
       "      <td>0.0</td>\n",
       "      <td>0</td>\n",
       "    </tr>\n",
       "    <tr>\n",
       "      <th>2000-01-05 00:00:00-05:00</th>\n",
       "      <td>92.13</td>\n",
       "      <td>93.17</td>\n",
       "      <td>90.36</td>\n",
       "      <td>92.17</td>\n",
       "      <td>12177900</td>\n",
       "      <td>0.0</td>\n",
       "      <td>0</td>\n",
       "    </tr>\n",
       "    <tr>\n",
       "      <th>2000-01-06 00:00:00-05:00</th>\n",
       "      <td>91.92</td>\n",
       "      <td>93.15</td>\n",
       "      <td>90.69</td>\n",
       "      <td>90.69</td>\n",
       "      <td>6227200</td>\n",
       "      <td>0.0</td>\n",
       "      <td>0</td>\n",
       "    </tr>\n",
       "    <tr>\n",
       "      <th>2000-01-07 00:00:00-05:00</th>\n",
       "      <td>92.37</td>\n",
       "      <td>95.95</td>\n",
       "      <td>92.21</td>\n",
       "      <td>95.95</td>\n",
       "      <td>8066500</td>\n",
       "      <td>0.0</td>\n",
       "      <td>0</td>\n",
       "    </tr>\n",
       "  </tbody>\n",
       "</table>\n",
       "</div>"
      ],
      "text/plain": [
       "                            Open   High    Low  Close    Volume  Dividends  \\\n",
       "Date                                                                         \n",
       "2000-01-03 00:00:00-05:00  97.60  97.60  94.72  95.75   8164300        0.0   \n",
       "2000-01-04 00:00:00-05:00  94.49  94.84  91.93  92.00   8089800        0.0   \n",
       "2000-01-05 00:00:00-05:00  92.13  93.17  90.36  92.17  12177900        0.0   \n",
       "2000-01-06 00:00:00-05:00  91.92  93.15  90.69  90.69   6227200        0.0   \n",
       "2000-01-07 00:00:00-05:00  92.37  95.95  92.21  95.95   8066500        0.0   \n",
       "\n",
       "                           Stock Splits  \n",
       "Date                                     \n",
       "2000-01-03 00:00:00-05:00             0  \n",
       "2000-01-04 00:00:00-05:00             0  \n",
       "2000-01-05 00:00:00-05:00             0  \n",
       "2000-01-06 00:00:00-05:00             0  \n",
       "2000-01-07 00:00:00-05:00             0  "
      ]
     },
     "execution_count": 3,
     "metadata": {},
     "output_type": "execute_result"
    }
   ],
   "source": [
    "start = datetime(2000,1,1)\n",
    "end = datetime(2010,1,1)\n",
    "df = getFinancialData(start, end)\n",
    "df.head()"
   ]
  },
  {
   "cell_type": "code",
   "execution_count": 4,
   "metadata": {},
   "outputs": [
    {
     "data": {
      "image/png": "[encoded data removed]",
      "text/plain": [
       "<Figure size 432x288 with 1 Axes>"
      ]
     },
     "metadata": {
      "needs_background": "light"
     },
     "output_type": "display_data"
    }
   ],
   "source": [
    "ts = df[\"Close\"]\n",
    "plt.plot(ts)\n",
    "plt.grid()"
   ]
  },
  {
   "cell_type": "code",
   "execution_count": 10,
   "metadata": {},
   "outputs": [
    {
     "name": "stdout",
     "output_type": "stream",
     "text": [
      "single positional indexer is out-of-bounds\n",
      "2000-12-30\n",
      "single positional indexer is out-of-bounds\n",
      "2001-01-06\n",
      "single positional indexer is out-of-bounds\n",
      "2001-12-31\n",
      "single positional indexer is out-of-bounds\n",
      "2002-01-07\n",
      "single positional indexer is out-of-bounds\n",
      "2004-12-30\n",
      "single positional indexer is out-of-bounds\n",
      "2005-01-06\n",
      "single positional indexer is out-of-bounds\n",
      "2005-01-13\n",
      "single positional indexer is out-of-bounds\n",
      "2005-12-31\n",
      "single positional indexer is out-of-bounds\n",
      "2006-01-07\n",
      "single positional indexer is out-of-bounds\n",
      "2006-12-31\n",
      "single positional indexer is out-of-bounds\n",
      "2007-01-07\n",
      "single positional indexer is out-of-bounds\n",
      "2007-12-31\n",
      "single positional indexer is out-of-bounds\n",
      "2008-01-07\n",
      "single positional indexer is out-of-bounds\n",
      "2009-12-31\n",
      "single positional indexer is out-of-bounds\n",
      "2010-01-07\n",
      "single positional indexer is out-of-bounds\n",
      "2010-01-14\n",
      "single positional indexer is out-of-bounds\n",
      "2010-12-31\n",
      "single positional indexer is out-of-bounds\n",
      "2011-01-07\n",
      "single positional indexer is out-of-bounds\n",
      "2011-12-31\n",
      "single positional indexer is out-of-bounds\n",
      "2012-01-07\n",
      "single positional indexer is out-of-bounds\n",
      "2012-12-30\n",
      "single positional indexer is out-of-bounds\n",
      "2013-01-06\n",
      "single positional indexer is out-of-bounds\n",
      "2015-12-31\n",
      "single positional indexer is out-of-bounds\n",
      "2016-01-07\n",
      "single positional indexer is out-of-bounds\n",
      "2016-01-14\n",
      "single positional indexer is out-of-bounds\n",
      "2016-12-30\n",
      "single positional indexer is out-of-bounds\n",
      "2017-01-06\n",
      "single positional indexer is out-of-bounds\n",
      "2017-12-31\n",
      "single positional indexer is out-of-bounds\n",
      "2018-01-07\n",
      "single positional indexer is out-of-bounds\n",
      "2018-12-31\n",
      "single positional indexer is out-of-bounds\n",
      "2019-01-07\n"
     ]
    }
   ],
   "source": [
    "x = [] # Two weeks of time series\n",
    "y = [] # Target variable: % change in following day (-> buy or sell today)\n",
    "\n",
    "for year in range(2000, 2020):\n",
    "    start = datetime(year,1,1)\n",
    "    end = datetime(year,12,31)\n",
    "    df = getFinancialData(start, end)\n",
    "\n",
    "    for week in range(df.index[-1].isocalendar()[1]):\n",
    "        init_date = date(year,1,1) + timedelta(week*7)\n",
    "        final_date = date(year,1,1) + timedelta((week+2)*7)\n",
    "        \n",
    "        x.append(df[(df.index.date >= init_date) & (df.index.date <= final_date)][\"Close\"])\n",
    "        final_val = df[df.index.date <= final_date].iloc[-1][\"Close\"]\n",
    "        try:\n",
    "            next_val = df[df.index.date > final_date].iloc[0][\"Close\"]\n",
    "        except Exception as e:\n",
    "            print(e)\n",
    "            print(final_date)\n",
    "        y.append((next_val - final_val)/final_val)\n",
    "    \n",
    "\n"
   ]
  },
  {
   "cell_type": "code",
   "execution_count": 11,
   "metadata": {},
   "outputs": [],
   "source": [
    "# Standardize indexes\n",
    "for i in range(len(x)):\n",
    "    x[i].index = [*range(0,x[i].size)]"
   ]
  },
  {
   "cell_type": "code",
   "execution_count": 12,
   "metadata": {},
   "outputs": [],
   "source": [
    "pd.DataFrame(x).to_csv(\"data/x.csv\")"
   ]
  },
  {
   "cell_type": "code",
   "execution_count": 13,
   "metadata": {},
   "outputs": [],
   "source": [
    "pd.DataFrame(y).to_csv(\"data/y.csv\")"
   ]
  },
  {
   "cell_type": "code",
   "execution_count": null,
   "metadata": {},
   "outputs": [],
   "source": []
  }
 ],
 "metadata": {
  "kernelspec": {
   "display_name": "Python 3.8.10 64-bit",
   "language": "python",
   "name": "python3"
  },
  "language_info": {
   "codemirror_mode": {
    "name": "ipython",
    "version": 3
   },
   "file_extension": ".py",
   "mimetype": "text/x-python",
   "name": "python",
   "nbconvert_exporter": "python",
   "pygments_lexer": "ipython3",
   "version": "3.8.10"
  },
  "orig_nbformat": 4,
  "vscode": {
   "interpreter": {
    "hash": "e7370f93d1d0cde622a1f8e1c04877d8463912d04d973331ad4851f04de6915a"
   }
  }
 },
 "nbformat": 4,
 "nbformat_minor": 2
}
